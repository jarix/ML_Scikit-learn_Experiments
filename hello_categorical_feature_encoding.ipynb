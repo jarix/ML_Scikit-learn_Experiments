{
 "cells": [
  {
   "cell_type": "markdown",
   "metadata": {},
   "source": [
    "# Hello Categorical Feature Encoding"
   ]
  },
  {
   "cell_type": "code",
   "execution_count": 1,
   "metadata": {},
   "outputs": [
    {
     "name": "stdout",
     "output_type": "stream",
     "text": [
      "Python Version:  3.12.7 (tags/v3.12.7:0b05ead, Oct  1 2024, 03:06:41) [MSC v.1941 64 bit (AMD64)]\n",
      "Numpy Version:  2.2.2\n"
     ]
    }
   ],
   "source": [
    "# Prerequisites\n",
    "import sys\n",
    "import numpy as np\n",
    "import pandas as pd\n",
    "print(\"Python Version: \", sys.version)\n",
    "print(\"Numpy Version: \", np.__version__)\n",
    "np.set_printoptions(precision=3, suppress=True)"
   ]
  },
  {
   "cell_type": "markdown",
   "metadata": {},
   "source": [
    "### Perform Label and One-Hot Encoding in a 2 Dimension Numpy Feature Array"
   ]
  },
  {
   "cell_type": "code",
   "execution_count": null,
   "metadata": {},
   "outputs": [],
   "source": []
  },
  {
   "cell_type": "code",
   "execution_count": 2,
   "metadata": {},
   "outputs": [
    {
     "name": "stdout",
     "output_type": "stream",
     "text": [
      "X shape:  (15, 9)\n",
      "X datatype:  <U32\n"
     ]
    },
    {
     "data": {
      "application/vnd.microsoft.datawrangler.viewer.v0+json": {
       "columns": [
        {
         "name": "index",
         "rawType": "int64",
         "type": "integer"
        },
        {
         "name": "0",
         "rawType": "object",
         "type": "string"
        },
        {
         "name": "1",
         "rawType": "object",
         "type": "string"
        },
        {
         "name": "2",
         "rawType": "object",
         "type": "string"
        },
        {
         "name": "3",
         "rawType": "object",
         "type": "string"
        },
        {
         "name": "4",
         "rawType": "object",
         "type": "string"
        },
        {
         "name": "5",
         "rawType": "object",
         "type": "string"
        },
        {
         "name": "6",
         "rawType": "object",
         "type": "string"
        },
        {
         "name": "7",
         "rawType": "object",
         "type": "string"
        },
        {
         "name": "8",
         "rawType": "object",
         "type": "string"
        }
       ],
       "conversionMethod": "pd.DataFrame",
       "ref": "e075076e-012a-4cdb-8a61-84766e64a097",
       "rows": [
        [
         "0",
         "0.8667449532177729",
         "2.4831070053168647",
         "E",
         "-0.8131764969802964",
         "-1.6667789037311334",
         "3.0146037832220136",
         "-0.9850546369852902",
         "-2.266307284365543",
         "-2.3613989150609083"
        ],
        [
         "1",
         "3.802316877585179",
         "-0.13047301029052338",
         "A",
         "0.8166382809127439",
         "-2.201343553757871",
         "2.123443555757164",
         "-3.088712174377644",
         "1.1248374768955998",
         "1.629355986507428"
        ],
        [
         "2",
         "0.5979459227408137",
         "0.020338603632615637",
         "A",
         "-3.0753227278867463",
         "-0.46171689498977475",
         "-2.8674959735299375",
         "2.5869984342731094",
         "0.23335952590137676",
         "-2.5787844348675097"
        ],
        [
         "3",
         "1.2755912993707677",
         "-0.8315184764906238",
         "E",
         "3.467061674056156",
         "1.9517183535605263",
         "3.6442874734401363",
         "1.650084102361566",
         "-2.166417286789379",
         "-1.510142692889323"
        ],
        [
         "4",
         "-0.7863868482231817",
         "-0.16975504300688637",
         "E",
         "3.4669014151253874",
         "-1.972779872175062",
         "2.1163484007248456",
         "-0.5304585749490149",
         "-3.917403407323147",
         "-0.5638175463389388"
        ]
       ],
       "shape": {
        "columns": 9,
        "rows": 5
       }
      },
      "text/html": [
       "<div>\n",
       "<style scoped>\n",
       "    .dataframe tbody tr th:only-of-type {\n",
       "        vertical-align: middle;\n",
       "    }\n",
       "\n",
       "    .dataframe tbody tr th {\n",
       "        vertical-align: top;\n",
       "    }\n",
       "\n",
       "    .dataframe thead th {\n",
       "        text-align: right;\n",
       "    }\n",
       "</style>\n",
       "<table border=\"1\" class=\"dataframe\">\n",
       "  <thead>\n",
       "    <tr style=\"text-align: right;\">\n",
       "      <th></th>\n",
       "      <th>0</th>\n",
       "      <th>1</th>\n",
       "      <th>2</th>\n",
       "      <th>3</th>\n",
       "      <th>4</th>\n",
       "      <th>5</th>\n",
       "      <th>6</th>\n",
       "      <th>7</th>\n",
       "      <th>8</th>\n",
       "    </tr>\n",
       "  </thead>\n",
       "  <tbody>\n",
       "    <tr>\n",
       "      <th>0</th>\n",
       "      <td>0.8667449532177729</td>\n",
       "      <td>2.4831070053168647</td>\n",
       "      <td>E</td>\n",
       "      <td>-0.8131764969802964</td>\n",
       "      <td>-1.6667789037311334</td>\n",
       "      <td>3.0146037832220136</td>\n",
       "      <td>-0.9850546369852902</td>\n",
       "      <td>-2.266307284365543</td>\n",
       "      <td>-2.3613989150609083</td>\n",
       "    </tr>\n",
       "    <tr>\n",
       "      <th>1</th>\n",
       "      <td>3.802316877585179</td>\n",
       "      <td>-0.13047301029052338</td>\n",
       "      <td>A</td>\n",
       "      <td>0.8166382809127439</td>\n",
       "      <td>-2.201343553757871</td>\n",
       "      <td>2.123443555757164</td>\n",
       "      <td>-3.088712174377644</td>\n",
       "      <td>1.1248374768955998</td>\n",
       "      <td>1.629355986507428</td>\n",
       "    </tr>\n",
       "    <tr>\n",
       "      <th>2</th>\n",
       "      <td>0.5979459227408137</td>\n",
       "      <td>0.020338603632615637</td>\n",
       "      <td>A</td>\n",
       "      <td>-3.0753227278867463</td>\n",
       "      <td>-0.46171689498977475</td>\n",
       "      <td>-2.8674959735299375</td>\n",
       "      <td>2.5869984342731094</td>\n",
       "      <td>0.23335952590137676</td>\n",
       "      <td>-2.5787844348675097</td>\n",
       "    </tr>\n",
       "    <tr>\n",
       "      <th>3</th>\n",
       "      <td>1.2755912993707677</td>\n",
       "      <td>-0.8315184764906238</td>\n",
       "      <td>E</td>\n",
       "      <td>3.467061674056156</td>\n",
       "      <td>1.9517183535605263</td>\n",
       "      <td>3.6442874734401363</td>\n",
       "      <td>1.650084102361566</td>\n",
       "      <td>-2.166417286789379</td>\n",
       "      <td>-1.510142692889323</td>\n",
       "    </tr>\n",
       "    <tr>\n",
       "      <th>4</th>\n",
       "      <td>-0.7863868482231817</td>\n",
       "      <td>-0.16975504300688637</td>\n",
       "      <td>E</td>\n",
       "      <td>3.4669014151253874</td>\n",
       "      <td>-1.972779872175062</td>\n",
       "      <td>2.1163484007248456</td>\n",
       "      <td>-0.5304585749490149</td>\n",
       "      <td>-3.917403407323147</td>\n",
       "      <td>-0.5638175463389388</td>\n",
       "    </tr>\n",
       "  </tbody>\n",
       "</table>\n",
       "</div>"
      ],
      "text/plain": [
       "                     0                     1  2                    3  \\\n",
       "0   0.8667449532177729    2.4831070053168647  E  -0.8131764969802964   \n",
       "1    3.802316877585179  -0.13047301029052338  A   0.8166382809127439   \n",
       "2   0.5979459227408137  0.020338603632615637  A  -3.0753227278867463   \n",
       "3   1.2755912993707677   -0.8315184764906238  E    3.467061674056156   \n",
       "4  -0.7863868482231817  -0.16975504300688637  E   3.4669014151253874   \n",
       "\n",
       "                      4                    5                    6  \\\n",
       "0   -1.6667789037311334   3.0146037832220136  -0.9850546369852902   \n",
       "1    -2.201343553757871    2.123443555757164   -3.088712174377644   \n",
       "2  -0.46171689498977475  -2.8674959735299375   2.5869984342731094   \n",
       "3    1.9517183535605263   3.6442874734401363    1.650084102361566   \n",
       "4    -1.972779872175062   2.1163484007248456  -0.5304585749490149   \n",
       "\n",
       "                     7                    8  \n",
       "0   -2.266307284365543  -2.3613989150609083  \n",
       "1   1.1248374768955998    1.629355986507428  \n",
       "2  0.23335952590137676  -2.5787844348675097  \n",
       "3   -2.166417286789379   -1.510142692889323  \n",
       "4   -3.917403407323147  -0.5638175463389388  "
      ]
     },
     "execution_count": 2,
     "metadata": {},
     "output_type": "execute_result"
    }
   ],
   "source": [
    "import random \n",
    "\n",
    "nr_samples = 15\n",
    "\n",
    "# Generate some random numerical features (8 columns)\n",
    "X_num_np = np.array([[random.uniform(-4, 4) for _ in range(8)] for _ in range(nr_samples)])\n",
    "\n",
    "# Generate dummy categorical feature (column index 2) with 5 unique categories\n",
    "categories = ['A', 'B', 'C', 'D', 'E']\n",
    "X_categ_np = np.array([random.choice(categories) for _ in range(nr_samples)]).reshape(-1, 1)\n",
    "\n",
    "# Concatenate numeric and categorical features into a single NumPy array\n",
    "X = np.hstack((X_num_np[:, :2], X_categ_np, X_num_np[:, 2:]))\n",
    "\n",
    "# Generate binary classification labels as a NumPy array\n",
    "y = np.array([random.randint(0, 1) for _ in range(nr_samples)])\n",
    "\n",
    "print(\"X shape: \", X.shape)\n",
    "print(\"X datatype: \", X.dtype)\n",
    "\n",
    "# Make to Pandas dataframe for better display\n",
    "df_X = pd.DataFrame(X)\n",
    "df_X.head()\n"
   ]
  },
  {
   "cell_type": "markdown",
   "metadata": {},
   "source": [
    "### Label Encode the Catgorical Column 2"
   ]
  },
  {
   "cell_type": "code",
   "execution_count": 4,
   "metadata": {},
   "outputs": [
    {
     "name": "stdout",
     "output_type": "stream",
     "text": [
      "X shape after label encoding:  (15, 9)\n"
     ]
    },
    {
     "data": {
      "application/vnd.microsoft.datawrangler.viewer.v0+json": {
       "columns": [
        {
         "name": "index",
         "rawType": "int64",
         "type": "integer"
        },
        {
         "name": "0",
         "rawType": "object",
         "type": "string"
        },
        {
         "name": "1",
         "rawType": "object",
         "type": "string"
        },
        {
         "name": "2",
         "rawType": "object",
         "type": "string"
        },
        {
         "name": "3",
         "rawType": "object",
         "type": "string"
        },
        {
         "name": "4",
         "rawType": "object",
         "type": "string"
        },
        {
         "name": "5",
         "rawType": "object",
         "type": "string"
        },
        {
         "name": "6",
         "rawType": "object",
         "type": "string"
        },
        {
         "name": "7",
         "rawType": "object",
         "type": "string"
        },
        {
         "name": "8",
         "rawType": "object",
         "type": "string"
        }
       ],
       "conversionMethod": "pd.DataFrame",
       "ref": "7124273c-96b6-4617-a44f-fe805ef891f5",
       "rows": [
        [
         "0",
         "0.8667449532177729",
         "2.4831070053168647",
         "4",
         "-0.8131764969802964",
         "-1.6667789037311334",
         "3.0146037832220136",
         "-0.9850546369852902",
         "-2.266307284365543",
         "-2.3613989150609083"
        ],
        [
         "1",
         "3.802316877585179",
         "-0.13047301029052338",
         "0",
         "0.8166382809127439",
         "-2.201343553757871",
         "2.123443555757164",
         "-3.088712174377644",
         "1.1248374768955998",
         "1.629355986507428"
        ],
        [
         "2",
         "0.5979459227408137",
         "0.020338603632615637",
         "0",
         "-3.0753227278867463",
         "-0.46171689498977475",
         "-2.8674959735299375",
         "2.5869984342731094",
         "0.23335952590137676",
         "-2.5787844348675097"
        ],
        [
         "3",
         "1.2755912993707677",
         "-0.8315184764906238",
         "4",
         "3.467061674056156",
         "1.9517183535605263",
         "3.6442874734401363",
         "1.650084102361566",
         "-2.166417286789379",
         "-1.510142692889323"
        ],
        [
         "4",
         "-0.7863868482231817",
         "-0.16975504300688637",
         "4",
         "3.4669014151253874",
         "-1.972779872175062",
         "2.1163484007248456",
         "-0.5304585749490149",
         "-3.917403407323147",
         "-0.5638175463389388"
        ]
       ],
       "shape": {
        "columns": 9,
        "rows": 5
       }
      },
      "text/html": [
       "<div>\n",
       "<style scoped>\n",
       "    .dataframe tbody tr th:only-of-type {\n",
       "        vertical-align: middle;\n",
       "    }\n",
       "\n",
       "    .dataframe tbody tr th {\n",
       "        vertical-align: top;\n",
       "    }\n",
       "\n",
       "    .dataframe thead th {\n",
       "        text-align: right;\n",
       "    }\n",
       "</style>\n",
       "<table border=\"1\" class=\"dataframe\">\n",
       "  <thead>\n",
       "    <tr style=\"text-align: right;\">\n",
       "      <th></th>\n",
       "      <th>0</th>\n",
       "      <th>1</th>\n",
       "      <th>2</th>\n",
       "      <th>3</th>\n",
       "      <th>4</th>\n",
       "      <th>5</th>\n",
       "      <th>6</th>\n",
       "      <th>7</th>\n",
       "      <th>8</th>\n",
       "    </tr>\n",
       "  </thead>\n",
       "  <tbody>\n",
       "    <tr>\n",
       "      <th>0</th>\n",
       "      <td>0.8667449532177729</td>\n",
       "      <td>2.4831070053168647</td>\n",
       "      <td>4</td>\n",
       "      <td>-0.8131764969802964</td>\n",
       "      <td>-1.6667789037311334</td>\n",
       "      <td>3.0146037832220136</td>\n",
       "      <td>-0.9850546369852902</td>\n",
       "      <td>-2.266307284365543</td>\n",
       "      <td>-2.3613989150609083</td>\n",
       "    </tr>\n",
       "    <tr>\n",
       "      <th>1</th>\n",
       "      <td>3.802316877585179</td>\n",
       "      <td>-0.13047301029052338</td>\n",
       "      <td>0</td>\n",
       "      <td>0.8166382809127439</td>\n",
       "      <td>-2.201343553757871</td>\n",
       "      <td>2.123443555757164</td>\n",
       "      <td>-3.088712174377644</td>\n",
       "      <td>1.1248374768955998</td>\n",
       "      <td>1.629355986507428</td>\n",
       "    </tr>\n",
       "    <tr>\n",
       "      <th>2</th>\n",
       "      <td>0.5979459227408137</td>\n",
       "      <td>0.020338603632615637</td>\n",
       "      <td>0</td>\n",
       "      <td>-3.0753227278867463</td>\n",
       "      <td>-0.46171689498977475</td>\n",
       "      <td>-2.8674959735299375</td>\n",
       "      <td>2.5869984342731094</td>\n",
       "      <td>0.23335952590137676</td>\n",
       "      <td>-2.5787844348675097</td>\n",
       "    </tr>\n",
       "    <tr>\n",
       "      <th>3</th>\n",
       "      <td>1.2755912993707677</td>\n",
       "      <td>-0.8315184764906238</td>\n",
       "      <td>4</td>\n",
       "      <td>3.467061674056156</td>\n",
       "      <td>1.9517183535605263</td>\n",
       "      <td>3.6442874734401363</td>\n",
       "      <td>1.650084102361566</td>\n",
       "      <td>-2.166417286789379</td>\n",
       "      <td>-1.510142692889323</td>\n",
       "    </tr>\n",
       "    <tr>\n",
       "      <th>4</th>\n",
       "      <td>-0.7863868482231817</td>\n",
       "      <td>-0.16975504300688637</td>\n",
       "      <td>4</td>\n",
       "      <td>3.4669014151253874</td>\n",
       "      <td>-1.972779872175062</td>\n",
       "      <td>2.1163484007248456</td>\n",
       "      <td>-0.5304585749490149</td>\n",
       "      <td>-3.917403407323147</td>\n",
       "      <td>-0.5638175463389388</td>\n",
       "    </tr>\n",
       "  </tbody>\n",
       "</table>\n",
       "</div>"
      ],
      "text/plain": [
       "                     0                     1  2                    3  \\\n",
       "0   0.8667449532177729    2.4831070053168647  4  -0.8131764969802964   \n",
       "1    3.802316877585179  -0.13047301029052338  0   0.8166382809127439   \n",
       "2   0.5979459227408137  0.020338603632615637  0  -3.0753227278867463   \n",
       "3   1.2755912993707677   -0.8315184764906238  4    3.467061674056156   \n",
       "4  -0.7863868482231817  -0.16975504300688637  4   3.4669014151253874   \n",
       "\n",
       "                      4                    5                    6  \\\n",
       "0   -1.6667789037311334   3.0146037832220136  -0.9850546369852902   \n",
       "1    -2.201343553757871    2.123443555757164   -3.088712174377644   \n",
       "2  -0.46171689498977475  -2.8674959735299375   2.5869984342731094   \n",
       "3    1.9517183535605263   3.6442874734401363    1.650084102361566   \n",
       "4    -1.972779872175062   2.1163484007248456  -0.5304585749490149   \n",
       "\n",
       "                     7                    8  \n",
       "0   -2.266307284365543  -2.3613989150609083  \n",
       "1   1.1248374768955998    1.629355986507428  \n",
       "2  0.23335952590137676  -2.5787844348675097  \n",
       "3   -2.166417286789379   -1.510142692889323  \n",
       "4   -3.917403407323147  -0.5638175463389388  "
      ]
     },
     "execution_count": 4,
     "metadata": {},
     "output_type": "execute_result"
    }
   ],
   "source": [
    "from sklearn.preprocessing import LabelEncoder\n",
    "\n",
    "X_le = X.copy()\n",
    "\n",
    "# LabelEncode column 2\n",
    "le = LabelEncoder()\n",
    "X_le[:, 2] = le.fit_transform(X_le[:, 2])\n",
    "print(\"X shape after label encoding: \", X_le.shape)\n",
    "\n",
    "# Make to Pandas dataframe for better display\n",
    "df_X_le = pd.DataFrame(X_le)\n",
    "df_X_le.head()"
   ]
  },
  {
   "cell_type": "markdown",
   "metadata": {},
   "source": [
    "Display mapping"
   ]
  },
  {
   "cell_type": "code",
   "execution_count": 6,
   "metadata": {},
   "outputs": [
    {
     "name": "stdout",
     "output_type": "stream",
     "text": [
      "Original Value -> Encoded Values\n",
      "A -> 0\n",
      "B -> 1\n",
      "C -> 2\n",
      "D -> 3\n",
      "E -> 4\n"
     ]
    }
   ],
   "source": [
    "mapping = dict(zip(le.classes_, range(len(le.classes_))))\n",
    "\n",
    "# Display the mapping\n",
    "print(\"Original Value -> Encoded Values\")\n",
    "for original, encoded in mapping.items():\n",
    "    print(f\"{original} -> {encoded}\")"
   ]
  },
  {
   "cell_type": "markdown",
   "metadata": {},
   "source": [
    "### One-hot Encode"
   ]
  },
  {
   "cell_type": "code",
   "execution_count": 7,
   "metadata": {},
   "outputs": [
    {
     "name": "stdout",
     "output_type": "stream",
     "text": [
      "X shape after one-hot encoding:  (15, 13)\n"
     ]
    },
    {
     "data": {
      "application/vnd.microsoft.datawrangler.viewer.v0+json": {
       "columns": [
        {
         "name": "index",
         "rawType": "int64",
         "type": "integer"
        },
        {
         "name": "0",
         "rawType": "object",
         "type": "string"
        },
        {
         "name": "1",
         "rawType": "object",
         "type": "string"
        },
        {
         "name": "2",
         "rawType": "object",
         "type": "string"
        },
        {
         "name": "3",
         "rawType": "object",
         "type": "string"
        },
        {
         "name": "4",
         "rawType": "object",
         "type": "string"
        },
        {
         "name": "5",
         "rawType": "object",
         "type": "string"
        },
        {
         "name": "6",
         "rawType": "object",
         "type": "string"
        },
        {
         "name": "7",
         "rawType": "object",
         "type": "string"
        },
        {
         "name": "8",
         "rawType": "object",
         "type": "string"
        },
        {
         "name": "9",
         "rawType": "object",
         "type": "string"
        },
        {
         "name": "10",
         "rawType": "object",
         "type": "string"
        },
        {
         "name": "11",
         "rawType": "object",
         "type": "string"
        },
        {
         "name": "12",
         "rawType": "object",
         "type": "string"
        }
       ],
       "conversionMethod": "pd.DataFrame",
       "ref": "a985ebd8-7a62-4478-acb4-9f7cbc36c170",
       "rows": [
        [
         "0",
         "0.0",
         "0.0",
         "0.0",
         "0.0",
         "1.0",
         "0.8667449532177729",
         "2.4831070053168647",
         "-0.8131764969802964",
         "-1.6667789037311334",
         "3.0146037832220136",
         "-0.9850546369852902",
         "-2.266307284365543",
         "-2.3613989150609083"
        ],
        [
         "1",
         "1.0",
         "0.0",
         "0.0",
         "0.0",
         "0.0",
         "3.802316877585179",
         "-0.13047301029052338",
         "0.8166382809127439",
         "-2.201343553757871",
         "2.123443555757164",
         "-3.088712174377644",
         "1.1248374768955998",
         "1.629355986507428"
        ],
        [
         "2",
         "1.0",
         "0.0",
         "0.0",
         "0.0",
         "0.0",
         "0.5979459227408137",
         "0.020338603632615637",
         "-3.0753227278867463",
         "-0.46171689498977475",
         "-2.8674959735299375",
         "2.5869984342731094",
         "0.23335952590137676",
         "-2.5787844348675097"
        ],
        [
         "3",
         "0.0",
         "0.0",
         "0.0",
         "0.0",
         "1.0",
         "1.2755912993707677",
         "-0.8315184764906238",
         "3.467061674056156",
         "1.9517183535605263",
         "3.6442874734401363",
         "1.650084102361566",
         "-2.166417286789379",
         "-1.510142692889323"
        ],
        [
         "4",
         "0.0",
         "0.0",
         "0.0",
         "0.0",
         "1.0",
         "-0.7863868482231817",
         "-0.16975504300688637",
         "3.4669014151253874",
         "-1.972779872175062",
         "2.1163484007248456",
         "-0.5304585749490149",
         "-3.917403407323147",
         "-0.5638175463389388"
        ]
       ],
       "shape": {
        "columns": 13,
        "rows": 5
       }
      },
      "text/html": [
       "<div>\n",
       "<style scoped>\n",
       "    .dataframe tbody tr th:only-of-type {\n",
       "        vertical-align: middle;\n",
       "    }\n",
       "\n",
       "    .dataframe tbody tr th {\n",
       "        vertical-align: top;\n",
       "    }\n",
       "\n",
       "    .dataframe thead th {\n",
       "        text-align: right;\n",
       "    }\n",
       "</style>\n",
       "<table border=\"1\" class=\"dataframe\">\n",
       "  <thead>\n",
       "    <tr style=\"text-align: right;\">\n",
       "      <th></th>\n",
       "      <th>0</th>\n",
       "      <th>1</th>\n",
       "      <th>2</th>\n",
       "      <th>3</th>\n",
       "      <th>4</th>\n",
       "      <th>5</th>\n",
       "      <th>6</th>\n",
       "      <th>7</th>\n",
       "      <th>8</th>\n",
       "      <th>9</th>\n",
       "      <th>10</th>\n",
       "      <th>11</th>\n",
       "      <th>12</th>\n",
       "    </tr>\n",
       "  </thead>\n",
       "  <tbody>\n",
       "    <tr>\n",
       "      <th>0</th>\n",
       "      <td>0.0</td>\n",
       "      <td>0.0</td>\n",
       "      <td>0.0</td>\n",
       "      <td>0.0</td>\n",
       "      <td>1.0</td>\n",
       "      <td>0.8667449532177729</td>\n",
       "      <td>2.4831070053168647</td>\n",
       "      <td>-0.8131764969802964</td>\n",
       "      <td>-1.6667789037311334</td>\n",
       "      <td>3.0146037832220136</td>\n",
       "      <td>-0.9850546369852902</td>\n",
       "      <td>-2.266307284365543</td>\n",
       "      <td>-2.3613989150609083</td>\n",
       "    </tr>\n",
       "    <tr>\n",
       "      <th>1</th>\n",
       "      <td>1.0</td>\n",
       "      <td>0.0</td>\n",
       "      <td>0.0</td>\n",
       "      <td>0.0</td>\n",
       "      <td>0.0</td>\n",
       "      <td>3.802316877585179</td>\n",
       "      <td>-0.13047301029052338</td>\n",
       "      <td>0.8166382809127439</td>\n",
       "      <td>-2.201343553757871</td>\n",
       "      <td>2.123443555757164</td>\n",
       "      <td>-3.088712174377644</td>\n",
       "      <td>1.1248374768955998</td>\n",
       "      <td>1.629355986507428</td>\n",
       "    </tr>\n",
       "    <tr>\n",
       "      <th>2</th>\n",
       "      <td>1.0</td>\n",
       "      <td>0.0</td>\n",
       "      <td>0.0</td>\n",
       "      <td>0.0</td>\n",
       "      <td>0.0</td>\n",
       "      <td>0.5979459227408137</td>\n",
       "      <td>0.020338603632615637</td>\n",
       "      <td>-3.0753227278867463</td>\n",
       "      <td>-0.46171689498977475</td>\n",
       "      <td>-2.8674959735299375</td>\n",
       "      <td>2.5869984342731094</td>\n",
       "      <td>0.23335952590137676</td>\n",
       "      <td>-2.5787844348675097</td>\n",
       "    </tr>\n",
       "    <tr>\n",
       "      <th>3</th>\n",
       "      <td>0.0</td>\n",
       "      <td>0.0</td>\n",
       "      <td>0.0</td>\n",
       "      <td>0.0</td>\n",
       "      <td>1.0</td>\n",
       "      <td>1.2755912993707677</td>\n",
       "      <td>-0.8315184764906238</td>\n",
       "      <td>3.467061674056156</td>\n",
       "      <td>1.9517183535605263</td>\n",
       "      <td>3.6442874734401363</td>\n",
       "      <td>1.650084102361566</td>\n",
       "      <td>-2.166417286789379</td>\n",
       "      <td>-1.510142692889323</td>\n",
       "    </tr>\n",
       "    <tr>\n",
       "      <th>4</th>\n",
       "      <td>0.0</td>\n",
       "      <td>0.0</td>\n",
       "      <td>0.0</td>\n",
       "      <td>0.0</td>\n",
       "      <td>1.0</td>\n",
       "      <td>-0.7863868482231817</td>\n",
       "      <td>-0.16975504300688637</td>\n",
       "      <td>3.4669014151253874</td>\n",
       "      <td>-1.972779872175062</td>\n",
       "      <td>2.1163484007248456</td>\n",
       "      <td>-0.5304585749490149</td>\n",
       "      <td>-3.917403407323147</td>\n",
       "      <td>-0.5638175463389388</td>\n",
       "    </tr>\n",
       "  </tbody>\n",
       "</table>\n",
       "</div>"
      ],
      "text/plain": [
       "    0    1    2    3    4                    5                     6   \\\n",
       "0  0.0  0.0  0.0  0.0  1.0   0.8667449532177729    2.4831070053168647   \n",
       "1  1.0  0.0  0.0  0.0  0.0    3.802316877585179  -0.13047301029052338   \n",
       "2  1.0  0.0  0.0  0.0  0.0   0.5979459227408137  0.020338603632615637   \n",
       "3  0.0  0.0  0.0  0.0  1.0   1.2755912993707677   -0.8315184764906238   \n",
       "4  0.0  0.0  0.0  0.0  1.0  -0.7863868482231817  -0.16975504300688637   \n",
       "\n",
       "                    7                     8                    9   \\\n",
       "0  -0.8131764969802964   -1.6667789037311334   3.0146037832220136   \n",
       "1   0.8166382809127439    -2.201343553757871    2.123443555757164   \n",
       "2  -3.0753227278867463  -0.46171689498977475  -2.8674959735299375   \n",
       "3    3.467061674056156    1.9517183535605263   3.6442874734401363   \n",
       "4   3.4669014151253874    -1.972779872175062   2.1163484007248456   \n",
       "\n",
       "                    10                   11                   12  \n",
       "0  -0.9850546369852902   -2.266307284365543  -2.3613989150609083  \n",
       "1   -3.088712174377644   1.1248374768955998    1.629355986507428  \n",
       "2   2.5869984342731094  0.23335952590137676  -2.5787844348675097  \n",
       "3    1.650084102361566   -2.166417286789379   -1.510142692889323  \n",
       "4  -0.5304585749490149   -3.917403407323147  -0.5638175463389388  "
      ]
     },
     "execution_count": 7,
     "metadata": {},
     "output_type": "execute_result"
    }
   ],
   "source": [
    "from sklearn.preprocessing import OneHotEncoder\n",
    "from sklearn.compose import ColumnTransformer\n",
    "\n",
    "# One-hot Encode column 2\n",
    " # Apply to column index 2, keep other columns unchanged\n",
    "ct = ColumnTransformer(transformers=[('encoder', OneHotEncoder(), [2])], remainder='passthrough')  \n",
    "X_ohe = np.array(ct.fit_transform(X.copy()))\n",
    "print(\"X shape after one-hot encoding: \", X_ohe.shape)\n",
    "\n",
    "# Make to Pandas dataframe for better display\n",
    "df_X_ohe = pd.DataFrame(X_ohe)\n",
    "df_X_ohe.head()"
   ]
  }
 ],
 "metadata": {
  "kernelspec": {
   "display_name": ".venv",
   "language": "python",
   "name": "python3"
  },
  "language_info": {
   "codemirror_mode": {
    "name": "ipython",
    "version": 3
   },
   "file_extension": ".py",
   "mimetype": "text/x-python",
   "name": "python",
   "nbconvert_exporter": "python",
   "pygments_lexer": "ipython3",
   "version": "3.12.7"
  }
 },
 "nbformat": 4,
 "nbformat_minor": 2
}
